{
 "cells": [
  {
   "cell_type": "code",
   "execution_count": 9,
   "metadata": {},
   "outputs": [],
   "source": [
    "import glob\n",
    "from PIL import Image\n",
    "import numpy as np\n",
    "import pandas as pd\n",
    "import matplotlib.pyplot as plt"
   ]
  },
  {
   "cell_type": "code",
   "execution_count": 10,
   "metadata": {},
   "outputs": [],
   "source": [
    "img_path = rf'C:\\Users\\HirokiFuruyama\\analysis\\kaggle\\cassava\\data\\train_images\\*jpg'\n",
    "# label = pd.read_csv(rf'C:\\Users\\HirokiFuruyama\\analysis\\kaggle\\cassava\\data\\train.csv')\n",
    "path_list = glob.glob(img_path)"
   ]
  },
  {
   "cell_type": "code",
   "execution_count": 12,
   "metadata": {},
   "outputs": [
    {
     "name": "stdout",
     "output_type": "stream",
     "text": [
      "0 / 21397\n",
      "2000 / 21397\n",
      "4000 / 21397\n",
      "6000 / 21397\n",
      "8000 / 21397\n",
      "10000 / 21397\n",
      "12000 / 21397\n",
      "14000 / 21397\n",
      "16000 / 21397\n",
      "18000 / 21397\n",
      "20000 / 21397\n"
     ]
    }
   ],
   "source": [
    "r_mean, r_std = [], []\n",
    "g_mean, g_std = [], []\n",
    "b_mean, b_std = [], []\n",
    "\n",
    "for n, i in enumerate(path_list):\n",
    "    r, g, b = Image.open(i).split() \n",
    "    \n",
    "    r_mean.append(np.mean(r))\n",
    "    r_std.append(np.std(r))\n",
    "    \n",
    "    g_mean.append(np.mean(g))\n",
    "    g_std.append(np.std(g))\n",
    "    \n",
    "    b_mean.append(np.mean(b))\n",
    "    b_std.append(np.std(b))\n",
    "    \n",
    "    if n % 2000 == 0:\n",
    "        print(n, '/', len(path_list))"
   ]
  },
  {
   "cell_type": "code",
   "execution_count": 21,
   "metadata": {},
   "outputs": [
    {
     "name": "stdout",
     "output_type": "stream",
     "text": [
      "r_mean: 0.43032042947197113\n",
      "r_std: 0.21909041691171033\n",
      "g_mean: 0.4967263167264148\n",
      "g_std: 0.22394303049942132\n",
      "b_mean: 0.31342008204298993\n",
      "b_std: 0.20059191462725368\n"
     ]
    }
   ],
   "source": [
    "print('r_mean:', np.mean(r_mean)/255)\n",
    "print('r_std:', np.mean(r_std)/255)\n",
    "print('g_mean:', np.mean(g_mean)/255)\n",
    "print('g_std:', np.mean(g_std)/255)\n",
    "print('b_mean:', np.mean(b_mean)/255)\n",
    "print('b_std:', np.mean(b_std)/255)"
   ]
  },
  {
   "cell_type": "code",
   "execution_count": 7,
   "metadata": {},
   "outputs": [
    {
     "data": {
      "text/plain": [
       "array([[ 33,  33,  38, ..., 139,  75,  61],\n",
       "       [ 33,  34,  37, ...,  49,  30,  45],\n",
       "       [ 34,  35,  36, ...,  40,  59,  86],\n",
       "       ...,\n",
       "       [ 13,  12,  12, ...,  70,  79,  84],\n",
       "       [ 13,  12,  14, ...,  79,  76,  76],\n",
       "       [ 13,  12,  14, ...,  81,  66,  58]], dtype=uint8)"
      ]
     },
     "execution_count": 7,
     "metadata": {},
     "output_type": "execute_result"
    }
   ],
   "source": [
    "img[:,:,0]"
   ]
  },
  {
   "cell_type": "code",
   "execution_count": null,
   "metadata": {},
   "outputs": [],
   "source": []
  }
 ],
 "metadata": {
  "kernelspec": {
   "display_name": "Python 3",
   "language": "python",
   "name": "python3"
  },
  "language_info": {
   "codemirror_mode": {
    "name": "ipython",
    "version": 3
   },
   "file_extension": ".py",
   "mimetype": "text/x-python",
   "name": "python",
   "nbconvert_exporter": "python",
   "pygments_lexer": "ipython3",
   "version": "3.8.5"
  }
 },
 "nbformat": 4,
 "nbformat_minor": 4
}
